{
  "nbformat": 4,
  "nbformat_minor": 0,
  "metadata": {
    "colab": {
      "provenance": [],
      "mount_file_id": "1pwYd-iiKXqdlhD0SsUhxxaIvM8MVUt89",
      "authorship_tag": "ABX9TyONUmWpU4e1K8324yfveAcJ",
      "include_colab_link": true
    },
    "kernelspec": {
      "name": "python3",
      "display_name": "Python 3"
    },
    "language_info": {
      "name": "python"
    }
  },
  "cells": [
    {
      "cell_type": "markdown",
      "metadata": {
        "id": "view-in-github",
        "colab_type": "text"
      },
      "source": [
        "<a href=\"https://colab.research.google.com/github/nshutielise/Data-Science-Personal-Projects/blob/main/Credit_Score_Model.ipynb\" target=\"_parent\"><img src=\"https://colab.research.google.com/assets/colab-badge.svg\" alt=\"Open In Colab\"/></a>"
      ]
    },
    {
      "cell_type": "markdown",
      "source": [
        "**Loan Prediction using Machine Learning**"
      ],
      "metadata": {
        "id": "18QPVfuD7YeS"
      }
    },
    {
      "cell_type": "markdown",
      "source": [
        "**Here are the Factors that are mostily considered.**\n",
        "\n",
        "\n",
        "\n",
        "1.   Gender\n",
        "\n",
        "1.   Education\n",
        "\n",
        "1.   Marrital Status\n",
        "\n",
        "1.   Loan Amount\n",
        "\n",
        "2.   Credit History\n",
        "\n",
        "2.   Account Balance\n",
        "\n",
        "2.   Property Area\n",
        "\n",
        "2.   Dependants\n",
        "\n",
        "2.   Self Employment status\n",
        "\n",
        "\n",
        "There might be more factors to consider, therefore, Lets explore the data we have."
      ],
      "metadata": {
        "id": "qnprFExB8Ril"
      }
    },
    {
      "cell_type": "markdown",
      "source": [
        "***Step 1: Data Preprocessing***"
      ],
      "metadata": {
        "id": "mOg32Bww9U2R"
      }
    },
    {
      "cell_type": "code",
      "execution_count": null,
      "metadata": {
        "id": "hbAbBnXj2Uot"
      },
      "outputs": [],
      "source": []
    },
    {
      "cell_type": "code",
      "source": [
        "from google.colab import drive\n",
        "drive.mount('/content/drive')"
      ],
      "metadata": {
        "colab": {
          "base_uri": "https://localhost:8080/"
        },
        "id": "o7Gg7hABN3M-",
        "outputId": "20c582a0-766e-4c3d-83cf-bf84d93d961d"
      },
      "execution_count": 1,
      "outputs": [
        {
          "output_type": "stream",
          "name": "stdout",
          "text": [
            "Drive already mounted at /content/drive; to attempt to forcibly remount, call drive.mount(\"/content/drive\", force_remount=True).\n"
          ]
        }
      ]
    }
  ]
}