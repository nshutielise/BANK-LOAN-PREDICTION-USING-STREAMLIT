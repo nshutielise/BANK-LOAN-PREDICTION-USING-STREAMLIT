{
  "nbformat": 4,
  "nbformat_minor": 0,
  "metadata": {
    "colab": {
      "provenance": [],
      "authorship_tag": "ABX9TyNCpiE7Pg4+DDZlUXoie85J",
      "include_colab_link": true
    },
    "kernelspec": {
      "name": "python3",
      "display_name": "Python 3"
    },
    "language_info": {
      "name": "python"
    }
  },
  "cells": [
    {
      "cell_type": "markdown",
      "metadata": {
        "id": "view-in-github",
        "colab_type": "text"
      },
      "source": [
        "<a href=\"https://colab.research.google.com/github/nshutielise/Data-Science-Personal-Projects/blob/main/streamlit.ipynb\" target=\"_parent\"><img src=\"https://colab.research.google.com/assets/colab-badge.svg\" alt=\"Open In Colab\"/></a>"
      ]
    },
    {
      "cell_type": "code",
      "execution_count": 49,
      "metadata": {
        "colab": {
          "base_uri": "https://localhost:8080/"
        },
        "id": "GvVnEwAX-yNe",
        "outputId": "c73fc703-6075-46e2-9848-48119f99b4e5"
      },
      "outputs": [
        {
          "output_type": "stream",
          "name": "stdout",
          "text": [
            "Authtoken saved to configuration file: /root/.config/ngrok/ngrok.yml\n",
            "Authtoken saved to configuration file: /root/.config/ngrok/ngrok.yml\n"
          ]
        }
      ],
      "source": [
        "# !pip install streamlit pyngrok\n",
        "!pip install streamlit pyngrok -q\n",
        "!ngrok authtoken ",
        "\n",
        "\n",
        "\n"
      ]
    },
    {
      "cell_type": "code",
      "source": [
        "%%writefile app.py\n",
        "import streamlit as st\n",
        "import pickle\n",
        "import pandas as pd\n",
        "\n",
        "def process_form(gender, married, dependents, education, self_employed,\n",
        "                 applicant_income, coapplicant_income, loan_amount,\n",
        "                 loan_amount_term, credit_history, property_area):\n",
        "    # Convert categorical variables to numeric\n",
        "    gender = 1 if gender == \"Male\" else 0\n",
        "    married = 1 if married == \"Yes\" else 0\n",
        "    dependents = 3 if dependents == \"3+\" else int(dependents)\n",
        "    education = 1 if education == \"Graduate\" else 0\n",
        "    self_employed = 1 if self_employed == \"Yes\" else 0\n",
        "\n",
        "    # Map property area string values to numeric representations\n",
        "    property_area_mapping = {\"Urban\": 2, \"Rural\": 0, \"Semiurban\": 1}\n",
        "    property_area_numeric = property_area_mapping[property_area]\n",
        "\n",
        "    # Create a DataFrame with the input data\n",
        "    input_data = pd.DataFrame({\n",
        "        'Gender': [gender],\n",
        "        'Married': [married],\n",
        "        'Dependents': [dependents],\n",
        "        'Education': [education],\n",
        "        'Self_Employed': [self_employed],\n",
        "        'ApplicantIncome': [applicant_income],\n",
        "        'CoapplicantIncome': [coapplicant_income],\n",
        "        'LoanAmount': [loan_amount],\n",
        "        'Loan_Amount_Term': [loan_amount_term],\n",
        "        'Credit_History': [credit_history],\n",
        "        'Property_Area': [property_area_numeric]  # Use numeric representation\n",
        "    })\n",
        "\n",
        "    # Load the trained model\n",
        "    model_path = '/content/logistic_regression_model.pkl'\n",
        "    with open(model_path, 'rb') as file:\n",
        "        model = pickle.load(file)\n",
        "\n",
        "    # Make prediction\n",
        "    prediction = model.predict(input_data)\n",
        "    prediction_proba = model.predict_proba(input_data)\n",
        "\n",
        "    # Display result\n",
        "    if prediction[0] == 1:\n",
        "        st.success(f\"Loan Approved with a probability of {prediction_proba[0][1]:.2f}\")\n",
        "    else:\n",
        "        st.error(f\"Loan Not Approved with a probability of {prediction_proba[0][0]:.2f}\")\n",
        "\n",
        "def display_form():\n",
        "    st.subheader(\"Enter Your Details\")\n",
        "\n",
        "    with st.form(key='loan_form'):\n",
        "        gender = st.selectbox(\"Gender\", [\"Male\", \"Female\"])\n",
        "        married = st.selectbox(\"Married\", [\"Yes\", \"No\"])\n",
        "        dependents = st.selectbox(\"Dependents\", [\"0\", \"1\", \"2\", \"3+\"])\n",
        "        education = st.selectbox(\"Education\", [\"Graduate\", \"Not Graduate\"])\n",
        "        self_employed = st.selectbox(\"Self Employed\", [\"Yes\", \"No\"])\n",
        "        applicant_income = st.number_input(\"Applicant Income\", min_value=0)\n",
        "        coapplicant_income = st.number_input(\"Coapplicant Income\", min_value=0)\n",
        "        loan_amount = st.number_input(\"Loan Amount\", min_value=0)\n",
        "        loan_amount_term = st.number_input(\"Loan Amount Term\", min_value=0)\n",
        "        credit_history = st.selectbox(\"Credit History\", [0, 1])\n",
        "        property_area = st.selectbox(\"Property Area\", [\"Urban\", \"Rural\", \"Semiurban\"])\n",
        "\n",
        "        submit_button = st.form_submit_button(label='Submit')\n",
        "\n",
        "    if submit_button:\n",
        "        process_form(gender, married, dependents, education, self_employed,\n",
        "                     applicant_income, coapplicant_income, loan_amount,\n",
        "                     loan_amount_term, credit_history, property_area)\n",
        "\n",
        "if __name__ == '__main__':\n",
        "    display_form()\n",
        "\n"
      ],
      "metadata": {
        "colab": {
          "base_uri": "https://localhost:8080/"
        },
        "id": "MX7MOdwA_Pqy",
        "outputId": "2b63ea35-fbfc-46c3-fd8e-0ef242ecb6c6"
      },
      "execution_count": 50,
      "outputs": [
        {
          "output_type": "stream",
          "name": "stdout",
          "text": [
            "Overwriting app.py\n",
            "Overwriting app.py\n"
          ]
        }
      ]
    },
    {
      "cell_type": "code",
      "source": [
        "\n",
        "!wget -q -O - ipv4.icanhazip.com"
      ],
      "metadata": {
        "colab": {
          "base_uri": "https://localhost:8080/"
        },
        "id": "okw7E642IBWp",
        "outputId": "742dadbb-27ce-4ced-9a0b-988cfb351742"
      },
      "execution_count": 51,
      "outputs": [
        {
          "output_type": "stream",
          "name": "stdout",
          "text": [
        
          ]
        }
      ]
    },
    {
      "cell_type": "code",
      "source": [
        "! streamlit run app.py & npx localtunnel --port 8501"
      ],
      "metadata": {
        "colab": {
          "base_uri": "https://localhost:8080/"
        },
        "id": "kYaCNOwnIlxD",
        "outputId": "b7536156-e350-4397-ca31-115282683138"
      },
      "execution_count": null,
      "outputs": [
        {
          "output_type": "stream",
          "name": "stdout",
          "text": [
            "\n",
            "Collecting usage statistics. To deactivate, set browser.gatherUsageStats to false.\n",
            "\u001b[0m\n",
            "\u001b[0m\n",
            "\u001b[34m\u001b[1m  You can now view your Streamlit app in your browser.\u001b[0m\n",
            "\u001b[0m\n",
            "\u001b[0m\n",
            "\u001b[K\u001b[?25hnpx: installed 22 in 2.273s\n",
            "your url is: https://rude-drinks-walk.loca.lt\n"
          ]
        }
      ]
    }
  ]
}
